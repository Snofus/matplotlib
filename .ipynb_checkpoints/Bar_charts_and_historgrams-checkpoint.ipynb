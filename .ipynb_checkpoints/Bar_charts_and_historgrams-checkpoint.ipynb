{
 "cells": [
  {
   "cell_type": "code",
   "execution_count": 5,
   "metadata": {},
   "outputs": [],
   "source": [
    "import matplotlib.pyplot as plt\n",
    "import numpy as np"
   ]
  },
  {
   "cell_type": "code",
   "execution_count": 4,
   "metadata": {},
   "outputs": [
    {
     "data": {
      "image/png": "[encoded data removed]",
      "text/plain": [
       "<Figure size 432x288 with 1 Axes>"
      ]
     },
     "metadata": {
      "needs_background": "light"
     },
     "output_type": "display_data"
    }
   ],
   "source": [
    "x = [2,4,6,8,10]\n",
    "y = [6,7,8,2,4]\n",
    "\n",
    "x2 = [1,3,5,9,11]\n",
    "y2 = [7,5,4,2,4]\n",
    "\n",
    "plt.bar(x2,y2,label = \"Bars2\")\n",
    "\n",
    "plt.bar(x,y,label = 'Bars1') # Alighnment and color of the bars can be adjusted\n",
    "\n",
    "plt.xlabel('x')\n",
    "plt.ylabel('y')\n",
    "plt.title('Interesting Graph')\n",
    "plt.legend()\n",
    "plt.show()\n"
   ]
  },
  {
   "cell_type": "code",
   "execution_count": 22,
   "metadata": {},
   "outputs": [
    {
     "data": {
      "text/plain": [
       "(array([14.,  2.,  3.,  0.,  1.,  0.,  1.]),\n",
       " array([  0,  20,  40,  60,  80, 100, 120, 140]),\n",
       " <a list of 7 Patch objects>)"
      ]
     },
     "execution_count": 22,
     "metadata": {},
     "output_type": "execute_result"
    },
    {
     "data": {
      "image/png": "[encoded data removed]",
      "text/plain": [
       "<Figure size 432x288 with 1 Axes>"
      ]
     },
     "metadata": {
      "needs_background": "light"
     },
     "output_type": "display_data"
    }
   ],
   "source": [
    "population = [121,54,45,6,12,6,1,3,12,3,5,4,8,6,23,84,12,31,48,15,4]\n",
    "bins = [0,20,40,60,80,100,120,140]\n",
    "plt.hist(population,bins = bins,histtype='bar',rwidth=0.8,align='mid')"
   ]
  },
  {
   "cell_type": "code",
   "execution_count": 7,
   "metadata": {},
   "outputs": [
    {
     "data": {
      "text/plain": [
       "array([0.1351693 , 0.44193901, 0.2392083 , 0.8321043 , 0.96060671,\n",
       "       0.32379542, 0.33063632, 0.22260869, 0.57215993, 0.86478475,\n",
       "       0.00658017, 0.34208538, 0.09662869, 0.6340581 , 0.64537209,\n",
       "       0.86464061, 0.86003187, 0.58009898, 0.21916005, 0.69606481,\n",
       "       0.93614166, 0.27127576, 0.60759458, 0.66363666, 0.82151049,\n",
       "       0.1683343 , 0.32944846, 0.07598161, 0.58045525, 0.53089855,\n",
       "       0.25267218, 0.23236258, 0.03683506, 0.29828057, 0.93858846,\n",
       "       0.91492873, 0.09342626, 0.75578005, 0.20178526, 0.18398361,\n",
       "       0.90527872, 0.06901434, 0.64982277, 0.5759974 , 0.59770897,\n",
       "       0.93611309, 0.32778385, 0.68721497, 0.62736638, 0.73436361,\n",
       "       0.19121842, 0.0072158 , 0.28172093, 0.18803581, 0.15343625,\n",
       "       0.55568077, 0.59184042, 0.43534072, 0.09007362, 0.51911669,\n",
       "       0.07775039, 0.56410136, 0.78605336, 0.80029805, 0.23450443,\n",
       "       0.17798033, 0.31236588, 0.77306838, 0.83562218, 0.80179484,\n",
       "       0.45651123, 0.24625134, 0.56967142, 0.08010176, 0.10173451,\n",
       "       0.02523186, 0.14474732, 0.46306298, 0.12745332, 0.05709654,\n",
       "       0.17899683, 0.57687653, 0.77591351, 0.42317221, 0.77634371,\n",
       "       0.56057882, 0.00643194, 0.86205769, 0.44991845, 0.60849536,\n",
       "       0.29524687, 0.22180312, 0.4358013 , 0.45685793, 0.13508924,\n",
       "       0.74855224, 0.91358434, 0.8220043 , 0.43544363, 0.68187879])"
      ]
     },
     "execution_count": 7,
     "metadata": {},
     "output_type": "execute_result"
    }
   ],
   "source": []
  },
  {
   "cell_type": "code",
   "execution_count": null,
   "metadata": {},
   "outputs": [],
   "source": []
  }
 ],
 "metadata": {
  "kernelspec": {
   "display_name": "Python 3",
   "language": "python",
   "name": "python3"
  },
  "language_info": {
   "codemirror_mode": {
    "name": "ipython",
    "version": 3
   },
   "file_extension": ".py",
   "mimetype": "text/x-python",
   "name": "python",
   "nbconvert_exporter": "python",
   "pygments_lexer": "ipython3",
   "version": "3.7.6"
  }
 },
 "nbformat": 4,
 "nbformat_minor": 4
}
